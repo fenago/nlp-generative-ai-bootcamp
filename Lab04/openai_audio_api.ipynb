{
 "cells": [
  {
   "cell_type": "code",
   "execution_count": null,
   "metadata": {},
   "outputs": [],
   "source": [
    "import os\n",
    "\n",
    "# Prompt for the API key\n",
    "api_key = input(\"Enter your OpenAI API key: \")\n",
    "\n",
    "# Set the environment variable\n",
    "os.environ[\"OPENAI_API_KEY\"] = api_key"
   ]
  },
  {
   "cell_type": "code",
   "execution_count": null,
   "metadata": {},
   "outputs": [],
   "source": [
    "from pathlib import Path\n",
    "from openai import OpenAI\n",
    "client = OpenAI()\n",
    "speech_file_path = Path(\"speech.mp3\")\n",
    "response = client.audio.speech.create(\n",
    "  model=\"tts-1\",\n",
    "  voice=\"alloy\",\n",
    "  input=\"My name is Dr. Lee and I am a Data Analytics Professor at Miami Dade College.  I am trying this ChatGPT model for the first time and it is super cool!\"\n",
    ")\n",
    "response.stream_to_file(speech_file_path)\n",
    "from IPython.display import Audio\n",
    "\n",
    "# Play the generated audio file\n",
    "Audio(\"./speech.mp3\")"
   ]
  },
  {
   "cell_type": "code",
   "execution_count": null,
   "metadata": {},
   "outputs": [],
   "source": []
  },
  {
   "cell_type": "code",
   "execution_count": null,
   "metadata": {},
   "outputs": [],
   "source": [
    "my_speech = \"\"\"\n",
    "My name is Dr. Lee and I am a Data Analytics Professor at Miami Dade College. \n",
    "I am trying this ChatGPT model for the first time and it is super cool!\n",
    "\"\"\""
   ]
  },
  {
   "cell_type": "code",
   "execution_count": null,
   "metadata": {},
   "outputs": [],
   "source": [
    "import openai\n",
    "\n",
    "# Translate the English text to Spanish\n",
    "response = openai.completions.create(\n",
    "  model=\"gpt-3.5-turbo-instruct\",\n",
    "  prompt=\"Translate the following text to Spanish: {}\".format(my_speech),\n",
    "  max_tokens=100\n",
    ")\n",
    "\n",
    "# Extract the translated text\n",
    "my_speech_es = response.choices[0].text.strip()"
   ]
  },
  {
   "cell_type": "code",
   "execution_count": null,
   "metadata": {},
   "outputs": [],
   "source": [
    "# Import the necessary library\n",
    "from openai import OpenAI\n",
    "\n",
    "client = OpenAI()\n",
    "\n",
    "# Generate English audio\n",
    "response_en = client.audio.speech.create(\n",
    "    model=\"tts-1\",\n",
    "    voice=\"alloy\",\n",
    "    input=my_speech\n",
    ")\n",
    "response_en.stream_to_file(\"english_speech.mp3\")\n",
    "\n",
    "# Generate Spanish audio\n",
    "response_es = client.audio.speech.create(\n",
    "    model=\"tts-1\",\n",
    "    voice=\"alloy\",  # Choose a voice suitable for Spanish\n",
    "    input=my_speech_es\n",
    ")\n",
    "response_es.stream_to_file(\"spanish_speech.mp3\")"
   ]
  },
  {
   "cell_type": "markdown",
   "metadata": {},
   "source": [
    "### Playing the Audio Files"
   ]
  },
  {
   "cell_type": "code",
   "execution_count": null,
   "metadata": {},
   "outputs": [],
   "source": [
    "from IPython.display import Audio\n",
    "\n",
    "# Play the English audio\n",
    "Audio(\"english_speech.mp3\")"
   ]
  },
  {
   "cell_type": "code",
   "execution_count": null,
   "metadata": {},
   "outputs": [],
   "source": [
    "# Play the Spanish audio\n",
    "Audio(\"spanish_speech.mp3\")"
   ]
  },
  {
   "cell_type": "code",
   "execution_count": null,
   "metadata": {},
   "outputs": [],
   "source": []
  }
 ],
 "metadata": {
  "kernelspec": {
   "display_name": "Python 3",
   "language": "python",
   "name": "python3"
  },
  "language_info": {
   "codemirror_mode": {
    "name": "ipython",
    "version": 3
   },
   "file_extension": ".py",
   "mimetype": "text/x-python",
   "name": "python",
   "nbconvert_exporter": "python",
   "pygments_lexer": "ipython3",
   "version": "3.7.3"
  }
 },
 "nbformat": 4,
 "nbformat_minor": 4
}

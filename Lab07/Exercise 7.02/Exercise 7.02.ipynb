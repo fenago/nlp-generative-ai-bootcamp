{
 "cells": [
  {
   "cell_type": "markdown",
   "metadata": {},
   "source": [
    "# Text Summarization of After Twenty Years by O' Henry and Text Summarization of the first section of the Wikipedia article on Oscar Wilde using TextRank (gensim) http://www.gutenberg.org/cache/epub/2776/pg2776.txt"
   ]
  },
  {
   "cell_type": "markdown",
   "metadata": {},
   "source": [
    "# After Twenty Years by O'Henry"
   ]
  },
  {
   "cell_type": "code",
   "execution_count": null,
   "metadata": {},
   "outputs": [],
   "source": [
    "from gensim.summarization import summarize\n",
    "import wikipedia\n",
    "import re\n",
    "\n",
    "file_url_after_twenty=r'../data/ohenry/pg2776.txt'\n",
    "with open(file_url_after_twenty, 'r') as f:\n",
    "        contents = f.read()\n",
    "\n",
    "start_string='AFTER TWENTY YEARS\\n\\n\\n'\n",
    "end_string='\\n\\n\\n\\n\\n\\nLOST ON DRESS PARADE'\n",
    "text_after_twenty=contents[contents.find(start_string):contents.find(end_string)]\n",
    "text_after_twenty=text_after_twenty.replace('\\n',' ')\n",
    "text_after_twenty=re.sub(r\"\\s+\",\" \",text_after_twenty)\n",
    "text_after_twenty"
   ]
  },
  {
   "cell_type": "code",
   "execution_count": null,
   "metadata": {},
   "outputs": [],
   "source": [
    "summary_text_after_twenty=summarize(text_after_twenty, ratio=0.2)\n",
    "print(summary_text_after_twenty)"
   ]
  },
  {
   "cell_type": "code",
   "execution_count": null,
   "metadata": {},
   "outputs": [],
   "source": [
    "summary_text_after_twenty=summarize(text_after_twenty, ratio=0.25)\n",
    "print(summary_text_after_twenty)"
   ]
  },
  {
   "cell_type": "markdown",
   "metadata": {},
   "source": [
    "# Wikipedia article on Oscar Wilde (summary section)"
   ]
  },
  {
   "cell_type": "code",
   "execution_count": null,
   "metadata": {},
   "outputs": [],
   "source": [
    "#text_wiki_oscarwilde=wikipedia.summary(\"Oscar Wilde\")\n",
    "file_url_wiki_oscarwilde=r'../data/oscarwilde/ow_wikipedia_sum.txt'\n",
    "with open(file_url_wiki_oscarwilde, 'r', encoding='latin-1') as f:\n",
    "        text_wiki_oscarwilde = f.read()\n",
    "text_wiki_oscarwilde=text_wiki_oscarwilde.replace('\\n',' ')\n",
    "text_wiki_oscarwilde=re.sub(r\"\\s+\",\" \",text_wiki_oscarwilde)\n",
    "text_wiki_oscarwilde"
   ]
  },
  {
   "cell_type": "code",
   "execution_count": null,
   "metadata": {},
   "outputs": [],
   "source": [
    "summary_wiki_oscarwilde=summarize(text_wiki_oscarwilde, ratio=0.2)\n",
    "print(summary_wiki_oscarwilde)"
   ]
  },
  {
   "cell_type": "code",
   "execution_count": null,
   "metadata": {},
   "outputs": [],
   "source": [
    "summary_wiki_oscarwilde=summarize(text_wiki_oscarwilde, ratio=0.25)\n",
    "print(summary_wiki_oscarwilde)"
   ]
  }
 ],
 "metadata": {
  "kernelspec": {
   "display_name": "Python 3",
   "language": "python",
   "name": "python3"
  },
  "language_info": {
   "codemirror_mode": {
    "name": "ipython",
    "version": 3
   },
   "file_extension": ".py",
   "mimetype": "text/x-python",
   "name": "python",
   "nbconvert_exporter": "python",
   "pygments_lexer": "ipython3",
   "version": "3.7.3"
  }
 },
 "nbformat": 4,
 "nbformat_minor": 4
}

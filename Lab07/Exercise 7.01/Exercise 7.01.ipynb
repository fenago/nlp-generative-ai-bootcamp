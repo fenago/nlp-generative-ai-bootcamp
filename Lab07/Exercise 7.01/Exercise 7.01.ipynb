{
 "cells": [
  {
   "cell_type": "markdown",
   "metadata": {},
   "source": [
    "# Text Generation using a random walk over a Markov Chain\n",
    "# Using North of Boston by Robert Frost, Guttenburg Project"
   ]
  },
  {
   "cell_type": "code",
   "execution_count": null,
   "metadata": {},
   "outputs": [],
   "source": [
    "import re\n",
    "import random\n",
    "OPEN_DATA_URL = '../data/robertfrost/pg3026.txt'\n",
    "\n",
    "f=open(OPEN_DATA_URL,'r',encoding='utf-8')\n",
    "text=f.read()\n",
    "f.close()"
   ]
  },
  {
   "cell_type": "code",
   "execution_count": null,
   "metadata": {},
   "outputs": [],
   "source": [
    "HANDLE = '@\\w+\\n'\n",
    "LINK = 'https?://t\\.co/\\w+'\n",
    "SPECIAL_CHARS = '&lt;|&lt;|&amp;|#'\n",
    "PARA='\\n+'\n",
    "def clean(text):\n",
    "    #text = re.sub(HANDLE, ' ', text)\n",
    "    text = re.sub(LINK, ' ', text)\n",
    "    text = re.sub(SPECIAL_CHARS, ' ', text)\n",
    "    text = re.sub(PARA, '\\n', text)\n",
    "    return text\n",
    "\n",
    "text = clean(text)"
   ]
  },
  {
   "cell_type": "code",
   "execution_count": null,
   "metadata": {},
   "outputs": [],
   "source": [
    "corpus=text.split()\n",
    "corpus_length=len(corpus)\n",
    "corpus_length"
   ]
  },
  {
   "cell_type": "code",
   "execution_count": null,
   "metadata": {
    "scrolled": true
   },
   "outputs": [],
   "source": [
    "succ_func={}\n",
    "corpus_counter=0\n",
    "for token in corpus:\n",
    "    corpus_counter=corpus_counter+1\n",
    "    if corpus_counter<corpus_length:\n",
    "        if token not in succ_func.keys():\n",
    "            succ_func[token]=[corpus[corpus_counter]]\n",
    "        else:\n",
    "            succ_func[token].append(corpus[corpus_counter])\n",
    "succ_func"
   ]
  },
  {
   "cell_type": "code",
   "execution_count": null,
   "metadata": {},
   "outputs": [],
   "source": [
    "initial_states=['The','A','I','He','She','If','This','Why','Where']\n",
    "def generate_words(k=5):\n",
    "    initial_state=random.choice(initial_states)\n",
    "    current_state=initial_state\n",
    "    text=current_state+' '\n",
    "    for i in range(k):\n",
    "        succ_state=random.choice(succ_func[current_state])\n",
    "        text=text+succ_state+' '\n",
    "        current_state=succ_state\n",
    "    print(text.split('.')[0])\n"
   ]
  },
  {
   "cell_type": "code",
   "execution_count": null,
   "metadata": {},
   "outputs": [],
   "source": [
    "for k in range(3,5):\n",
    "    for j in range(10):\n",
    "        generate_words(k)"
   ]
  }
 ],
 "metadata": {
  "kernelspec": {
   "display_name": "Python 3",
   "language": "python",
   "name": "python3"
  },
  "language_info": {
   "codemirror_mode": {
    "name": "ipython",
    "version": 3
   },
   "file_extension": ".py",
   "mimetype": "text/x-python",
   "name": "python",
   "nbconvert_exporter": "python",
   "pygments_lexer": "ipython3",
   "version": "3.7.3"
  }
 },
 "nbformat": 4,
 "nbformat_minor": 4
}

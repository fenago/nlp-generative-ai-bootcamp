{
 "cells": [
  {
   "cell_type": "markdown",
   "metadata": {},
   "source": [
    "# Summarize two different versions of Little Red Riding Hood using Text Rank (gensim) \n",
    "# http://www.gutenberg.org/cache/epub/11592/pg11592.txt\n",
    "# http://www.gutenberg.org/cache/epub/29021/pg29021.txt"
   ]
  },
  {
   "cell_type": "code",
   "execution_count": null,
   "metadata": {},
   "outputs": [],
   "source": [
    "from gensim.summarization import summarize\n",
    "import re"
   ]
  },
  {
   "cell_type": "code",
   "execution_count": null,
   "metadata": {},
   "outputs": [],
   "source": [
    "file_url_grimms=r'../data/littleredrh/pg11592.txt'\n",
    "with open(file_url_grimms, 'r') as f:\n",
    "        contents_grimms = f.read()\n",
    "start_string_grimms='LITTLE RED RIDING HOOD\\n\\n\\n'\n",
    "end_string_grimms='\\n\\n\\n\\n\\nTHE GOOSE-GIRL'\n",
    "text_grimms=contents_grimms[contents_grimms.find(start_string_grimms):contents_grimms.find(end_string_grimms)]\n",
    "text_grimms=text_grimms.replace('\\n',' ')\n",
    "text_grimms=re.sub(r\"\\s+\",\" \",text_grimms)\n",
    "text_grimms"
   ]
  },
  {
   "cell_type": "code",
   "execution_count": null,
   "metadata": {},
   "outputs": [],
   "source": [
    "file_url_perrault=r'../data/littleredrh/pg29021.txt'\n",
    "with open(file_url_perrault, 'r') as f:\n",
    "        contents_perrault = f.read()\n",
    "start_string_perrault='Little Red Riding-Hood\\n\\n'\n",
    "end_string_perrault='\\n\\n_The Moral_'\n",
    "text_perrault=contents_perrault[contents_perrault.find(start_string_perrault):contents_perrault.find(end_string_perrault)]\n",
    "text_perrault=text_perrault.replace('\\n',' ')\n",
    "text_perrault=re.sub(r\"\\s+\",\" \",text_perrault)\n",
    "text_perrault"
   ]
  },
  {
   "cell_type": "code",
   "execution_count": null,
   "metadata": {},
   "outputs": [],
   "source": [
    "llrh_grimms_textrank=summarize(text_grimms,ratio=0.20)\n",
    "llrh_perrault_textrank=summarize(text_perrault,ratio=0.20)"
   ]
  },
  {
   "cell_type": "code",
   "execution_count": null,
   "metadata": {},
   "outputs": [],
   "source": [
    "print(llrh_grimms_textrank)"
   ]
  },
  {
   "cell_type": "code",
   "execution_count": null,
   "metadata": {},
   "outputs": [],
   "source": [
    "print(llrh_perrault_textrank)"
   ]
  },
  {
   "cell_type": "code",
   "execution_count": null,
   "metadata": {},
   "outputs": [],
   "source": [
    "llrh_grimms_textrank=summarize(text_grimms,ratio=0.5)\n",
    "llrh_perrault_textrank=summarize(text_perrault,ratio=0.5)"
   ]
  },
  {
   "cell_type": "code",
   "execution_count": null,
   "metadata": {},
   "outputs": [],
   "source": [
    "print(llrh_grimms_textrank)"
   ]
  },
  {
   "cell_type": "code",
   "execution_count": null,
   "metadata": {},
   "outputs": [],
   "source": [
    "print(llrh_perrault_textrank)"
   ]
  }
 ],
 "metadata": {
  "kernelspec": {
   "display_name": "Python 3",
   "language": "python",
   "name": "python3"
  },
  "language_info": {
   "codemirror_mode": {
    "name": "ipython",
    "version": 3
   },
   "file_extension": ".py",
   "mimetype": "text/x-python",
   "name": "python",
   "nbconvert_exporter": "python",
   "pygments_lexer": "ipython3",
   "version": "3.7.3"
  }
 },
 "nbformat": 4,
 "nbformat_minor": 4
}

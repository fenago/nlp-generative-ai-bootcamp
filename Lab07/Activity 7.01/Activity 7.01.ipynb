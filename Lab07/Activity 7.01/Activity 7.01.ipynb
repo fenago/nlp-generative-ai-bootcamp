{
 "cells": [
  {
   "cell_type": "markdown",
   "metadata": {},
   "source": [
    "## Summarize complaints in Consumer Financial Protection Bureau dataset using Text Rank (gensim) \n",
    "# https://www.consumerfinance.gov/data-research/consumer-complaints/"
   ]
  },
  {
   "cell_type": "code",
   "execution_count": null,
   "metadata": {},
   "outputs": [],
   "source": [
    "import warnings\n",
    "warnings.filterwarnings('ignore')\n",
    "import os\n",
    "import csv\n",
    "import pandas as pd\n",
    "from gensim.summarization import summarize"
   ]
  },
  {
   "cell_type": "code",
   "execution_count": null,
   "metadata": {},
   "outputs": [],
   "source": [
    "complaints_pathname='../data/consumercomplaints/Consumer_Complaints.csv'\n",
    "df_all_complaints=pd.read_csv(complaints_pathname)\n",
    "df_all_narr=df_all_complaints.dropna(subset=['Consumer complaint narrative'])\n",
    "df_all_narr=df_all_narr[['Product','Sub-product','Issue','Sub-issue','Consumer complaint narrative']]"
   ]
  },
  {
   "cell_type": "code",
   "execution_count": null,
   "metadata": {
    "scrolled": false
   },
   "outputs": [],
   "source": [
    "df_part_narr=df_all_narr[df_all_narr.index.isin([242830,1086741,536367,957355,975181,483530,950006,865088,681842,536367,132345,285894])]\n",
    "df_part_narr"
   ]
  },
  {
   "cell_type": "code",
   "execution_count": null,
   "metadata": {},
   "outputs": [],
   "source": [
    "def try_summarize(x,ratio):\n",
    "    try:\n",
    "        return(summarize(x,ratio=ratio))\n",
    "    except:\n",
    "        return('')\n",
    "df_part_narr['TextRank Summary']=df_part_narr['Consumer complaint narrative'].apply(lambda x: try_summarize(x,ratio=0.20))"
   ]
  },
  {
   "cell_type": "code",
   "execution_count": null,
   "metadata": {
    "scrolled": false
   },
   "outputs": [],
   "source": [
    "df_part_narr"
   ]
  },
  {
   "cell_type": "code",
   "execution_count": null,
   "metadata": {},
   "outputs": [],
   "source": []
  }
 ],
 "metadata": {
  "kernelspec": {
   "display_name": "Python 3",
   "language": "python",
   "name": "python3"
  },
  "language_info": {
   "codemirror_mode": {
    "name": "ipython",
    "version": 3
   },
   "file_extension": ".py",
   "mimetype": "text/x-python",
   "name": "python",
   "nbconvert_exporter": "python",
   "pygments_lexer": "ipython3",
   "version": "3.7.3"
  }
 },
 "nbformat": 4,
 "nbformat_minor": 2
}

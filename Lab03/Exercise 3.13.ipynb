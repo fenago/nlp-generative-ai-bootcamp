{
 "cells": [
  {
   "cell_type": "code",
   "execution_count": null,
   "metadata": {},
   "outputs": [],
   "source": [
    "from sklearn.metrics import mean_squared_error\n",
    "from math import sqrt\n",
    "y_actual = [0,1,2,1,0]\n",
    "y_predicted = [0.03,1.2,1.6,.9,0.1]\n",
    "rms = sqrt(mean_squared_error(y_actual, y_predicted))\n",
    "print('Root Mean Squared Error (RMSE) is:', rms)"
   ]
  },
  {
   "cell_type": "code",
   "execution_count": null,
   "metadata": {},
   "outputs": [],
   "source": [
    "from sklearn.metrics import mean_absolute_error\n",
    "y_actual = [0,1,2,1,0]\n",
    "y_predicted = [0.03,1.2,1.6,.9,0.1]\n",
    "mape = mean_absolute_error(y_actual, y_predicted) * 100\n",
    "print('Mean Absolute Percentage Error (MAPE) is:', round(mape,2), '%')"
   ]
  },
  {
   "cell_type": "code",
   "execution_count": null,
   "metadata": {},
   "outputs": [],
   "source": []
  }
 ],
 "metadata": {
  "kernelspec": {
   "display_name": "Python 3",
   "language": "python",
   "name": "python3"
  },
  "language_info": {
   "codemirror_mode": {
    "name": "ipython",
    "version": 3
   },
   "file_extension": ".py",
   "mimetype": "text/x-python",
   "name": "python",
   "nbconvert_exporter": "python",
   "pygments_lexer": "ipython3",
   "version": "3.7.3"
  }
 },
 "nbformat": 4,
 "nbformat_minor": 2
}

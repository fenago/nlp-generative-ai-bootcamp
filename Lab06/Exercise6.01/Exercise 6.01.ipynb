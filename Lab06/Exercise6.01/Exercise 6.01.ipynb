{
 "cells": [
  {
   "cell_type": "code",
   "execution_count": null,
   "metadata": {},
   "outputs": [],
   "source": [
    "from pathlib import Path\n",
    "data = Path('../data')\n",
    "novel_lines_file = data / 'novel_lines.txt'\n"
   ]
  },
  {
   "cell_type": "code",
   "execution_count": null,
   "metadata": {},
   "outputs": [],
   "source": [
    "with novel_lines_file.open() as f:\n",
    "    novel_lines_raw = f.read()\n"
   ]
  },
  {
   "cell_type": "code",
   "execution_count": null,
   "metadata": {},
   "outputs": [],
   "source": [
    "novel_lines_raw"
   ]
  },
  {
   "cell_type": "code",
   "execution_count": null,
   "metadata": {},
   "outputs": [],
   "source": [
    "import string\n",
    "import re\n",
    " \n",
    "alpha_characters = str.maketrans('', '', string.punctuation)\n",
    " \n",
    "def clean_tokenize(text):\n",
    "    text = text.lower()\n",
    "    text = re.sub(r'\\n', '*** ', text)\n",
    "    text = text.translate(alpha_characters)\n",
    "    text = re.sub(r' +', ' ', text)\n",
    "    return text.strip().split(' ')\n",
    " \n",
    "novel_lines = clean_tokenize(novel_lines_raw)\n"
   ]
  },
  {
   "cell_type": "code",
   "execution_count": null,
   "metadata": {},
   "outputs": [],
   "source": [
    "novel_lines"
   ]
  },
  {
   "cell_type": "code",
   "execution_count": null,
   "metadata": {},
   "outputs": [],
   "source": [
    "import numpy as np\n",
    "novel_lines_array = np.array([novel_lines])\n",
    "novel_lines_array = novel_lines_array.reshape(-1, 1)\n",
    "novel_lines_array.shape\n"
   ]
  },
  {
   "cell_type": "code",
   "execution_count": null,
   "metadata": {},
   "outputs": [],
   "source": [
    "from sklearn import preprocessing\n",
    " \n",
    "labelEncoder = preprocessing.LabelEncoder()\n",
    "novel_lines_labels = labelEncoder.fit_transform(novel_lines_array)\n",
    " \n",
    "import warnings\n",
    "warnings.filterwarnings('ignore')\n",
    " \n",
    "wordOneHotEncoder = preprocessing.OneHotEncoder()\n",
    " \n",
    "line_onehot = wordOneHotEncoder.fit_transform(novel_lines_labels.reshape(-1,1))\n"
   ]
  },
  {
   "cell_type": "code",
   "execution_count": null,
   "metadata": {},
   "outputs": [],
   "source": [
    "novel_lines_labels"
   ]
  },
  {
   "cell_type": "code",
   "execution_count": null,
   "metadata": {},
   "outputs": [],
   "source": [
    "line_onehot"
   ]
  },
  {
   "cell_type": "code",
   "execution_count": null,
   "metadata": {},
   "outputs": [],
   "source": [
    "line_onehot.toarray()"
   ]
  }
 ],
 "metadata": {
  "kernelspec": {
   "display_name": "Python 3",
   "language": "python",
   "name": "python3"
  },
  "language_info": {
   "codemirror_mode": {
    "name": "ipython",
    "version": 3
   },
   "file_extension": ".py",
   "mimetype": "text/x-python",
   "name": "python",
   "nbconvert_exporter": "python",
   "pygments_lexer": "ipython3",
   "version": "3.7.3"
  }
 },
 "nbformat": 4,
 "nbformat_minor": 2
}

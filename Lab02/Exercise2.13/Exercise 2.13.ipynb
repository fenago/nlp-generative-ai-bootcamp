{
 "cells": [
  {
   "cell_type": "code",
   "execution_count": null,
   "metadata": {},
   "outputs": [],
   "source": [
    "import pandas as pd\n",
    "from sklearn.feature_extraction.text import CountVectorizer"
   ]
  },
  {
   "cell_type": "code",
   "execution_count": null,
   "metadata": {},
   "outputs": [],
   "source": [
    "def vectorize_text(corpus):\n",
    "    \"\"\"\n",
    "    Will return a dataframe in which every row will ,be\n",
    "    vector representation of a document in corpus\n",
    "    :param corpus: input text corpus\n",
    "    :return: dataframe of vectors\n",
    "    \"\"\"\n",
    "    bag_of_words_model = CountVectorizer()\n",
    " \n",
    "    # performs the above described three tasks on the given data corpus.\n",
    "    dense_vec_matrix = bag_of_words_model.fit_transform(corpus).todense()\n",
    "    bag_of_word_df = pd.DataFrame(dense_vec_matrix)\n",
    "    bag_of_word_df.columns = sorted(bag_of_words_model.vocabulary_)\n",
    "    return bag_of_word_df\n",
    "\n",
    "corpus = [\n",
    "        'Data Science is an overlap between Arts and Science',\n",
    "        'Generally, Arts graduates are right-brained and Science graduates are left-brained',\n",
    "        'Excelling in both Arts and Science at a time becomes difficult',\n",
    "        'Natural Language Processing is a part of Data Science']\n",
    "df = vectorize_text(corpus)\n",
    "df.head()\n"
   ]
  },
  {
   "cell_type": "code",
   "execution_count": null,
   "metadata": {},
   "outputs": [],
   "source": [
    "def bow_top_n(corpus, n):\n",
    "    \"\"\"\n",
    "      Will return a dataframe in which every row \n",
    "      will be represented by presence or absence of top 10 most \n",
    "      frequently occurring words in data corpus\n",
    "      :param corpus: input text corpus\n",
    "      :return: dataframe of vectors\n",
    "      \"\"\"\n",
    "    bag_of_words_model_small = CountVectorizer(max_features=n)\n",
    "    bag_of_word_df_small = pd.DataFrame(bag_of_words_model_small.fit_transform(corpus).todense())\n",
    "    bag_of_word_df_small.columns = sorted(bag_of_words_model_small.vocabulary_)\n",
    "    return bag_of_word_df_small\n",
    "df_2 = bow_top_n(corpus, 10)\n",
    "df_2.head()"
   ]
  }
 ],
 "metadata": {
  "kernelspec": {
   "display_name": "Python 3",
   "language": "python",
   "name": "python3"
  },
  "language_info": {
   "codemirror_mode": {
    "name": "ipython",
    "version": 3
   },
   "file_extension": ".py",
   "mimetype": "text/x-python",
   "name": "python",
   "nbconvert_exporter": "python",
   "pygments_lexer": "ipython3",
   "version": "3.7.3"
  }
 },
 "nbformat": 4,
 "nbformat_minor": 2
}

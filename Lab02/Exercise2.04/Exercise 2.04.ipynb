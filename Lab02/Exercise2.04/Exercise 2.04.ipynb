{
 "cells": [
  {
   "cell_type": "markdown",
   "metadata": {},
   "source": [
    "\n",
    "# This notebook contains advanced tokemizer examples"
   ]
  },
  {
   "cell_type": "code",
   "execution_count": null,
   "metadata": {},
   "outputs": [],
   "source": [
    "from nltk.tokenize import TweetTokenizer\n",
    "from nltk.tokenize import MWETokenizer\n",
    "from nltk.tokenize import RegexpTokenizer\n",
    "from nltk.tokenize import WhitespaceTokenizer\n",
    "from nltk.tokenize import WordPunctTokenizer\n",
    "\n",
    "sentence = 'Sunil tweeted, \"Witnessing 70th Republic Day of India from Rajpath, \\\n",
    "New Delhi. Mesmerizing performance by Indian Army! Awesome airshow! @india_official \\\n",
    "@indian_army #India #70thRepublic_Day. For more photos ping me sunil@photoking.com :)\"'"
   ]
  },
  {
   "cell_type": "code",
   "execution_count": null,
   "metadata": {},
   "outputs": [],
   "source": [
    "def tokenize_with_tweet_tokenizer(text):\n",
    "    tweet_tokenizer = TweetTokenizer() # Here will create an object of tweetTokenizer\n",
    "    return tweet_tokenizer.tokenize(text) # Then we will call the tokenize \n",
    "                                       # method of tweetTokenizer which will return \n",
    "#                             token list of sentences.\n",
    "    \n",
    "tokenize_with_tweet_tokenizer(sentence)"
   ]
  },
  {
   "cell_type": "code",
   "execution_count": null,
   "metadata": {},
   "outputs": [],
   "source": [
    "def tokenize_with_mwe(text):\n",
    "    mwe_tokenizer = MWETokenizer([('Republic', 'Day')])\n",
    "    mwe_tokenizer.add_mwe(('Indian', 'Army'))\n",
    "    return mwe_tokenizer.tokenize(text.split())\n",
    "\n",
    "\n",
    "tokenize_with_mwe(sentence)"
   ]
  },
  {
   "cell_type": "code",
   "execution_count": null,
   "metadata": {},
   "outputs": [],
   "source": [
    "tokenize_with_mwe(sentence.replace('!',''))"
   ]
  },
  {
   "cell_type": "code",
   "execution_count": null,
   "metadata": {},
   "outputs": [],
   "source": [
    "def tokenize_with_regex_tokenizer(text):\n",
    "    reg_tokenizer = RegexpTokenizer('\\w+|\\$[\\d\\.]+|\\S+')\n",
    "    return reg_tokenizer.tokenize(text)\n",
    "\n",
    "tokenize_with_regex_tokenizer(sentence)"
   ]
  },
  {
   "cell_type": "code",
   "execution_count": null,
   "metadata": {},
   "outputs": [],
   "source": [
    "def tokenize_with_wst(text):\n",
    "    wh_tokenizer = WhitespaceTokenizer()\n",
    "    return wh_tokenizer.tokenize(text)\n",
    "\n",
    "tokenize_with_wst(sentence)"
   ]
  },
  {
   "cell_type": "code",
   "execution_count": null,
   "metadata": {},
   "outputs": [],
   "source": [
    "def tokenize_with_wordpunct_tokenizer(text):\n",
    "    wp_tokenizer = WordPunctTokenizer()\n",
    "    return wp_tokenizer.tokenize(text)\n",
    "\n",
    "tokenize_with_wordpunct_tokenizer(sentence)"
   ]
  }
 ],
 "metadata": {
  "kernelspec": {
   "display_name": "Python 3",
   "language": "python",
   "name": "python3"
  },
  "language_info": {
   "codemirror_mode": {
    "name": "ipython",
    "version": 3
   },
   "file_extension": ".py",
   "mimetype": "text/x-python",
   "name": "python",
   "nbconvert_exporter": "python",
   "pygments_lexer": "ipython3",
   "version": "3.7.3"
  }
 },
 "nbformat": 4,
 "nbformat_minor": 2
}

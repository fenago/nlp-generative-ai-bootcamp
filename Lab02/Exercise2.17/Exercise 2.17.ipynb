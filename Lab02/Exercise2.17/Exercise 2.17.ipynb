{
 "cells": [
  {
   "cell_type": "markdown",
   "metadata": {},
   "source": [
    "# Implementing lesk algorithm from scratch using string similarity and text vectorization"
   ]
  },
  {
   "cell_type": "code",
   "execution_count": null,
   "metadata": {},
   "outputs": [],
   "source": [
    "import pandas as pd\n",
    "from sklearn.metrics.pairwise import cosine_similarity\n",
    "from nltk import word_tokenize\n",
    "from sklearn.feature_extraction.text import TfidfVectorizer\n",
    "from sklearn.datasets import fetch_20newsgroups\n",
    "import numpy as np"
   ]
  },
  {
   "cell_type": "code",
   "execution_count": null,
   "metadata": {},
   "outputs": [],
   "source": [
    "def get_tf_idf_vectors(corpus):\n",
    "    tfidf_vectorizer = TfidfVectorizer()\n",
    "    tfidf_results = tfidf_vectorizer.fit_transform(corpus).todense()\n",
    "    return tfidf_results"
   ]
  },
  {
   "cell_type": "code",
   "execution_count": null,
   "metadata": {},
   "outputs": [],
   "source": [
    "def to_lower_case(corpus):\n",
    "    lowercase_corpus = [x.lower() for x in corpus]\n",
    "    return lowercase_corpus"
   ]
  },
  {
   "cell_type": "code",
   "execution_count": null,
   "metadata": {},
   "outputs": [],
   "source": [
    "def find_sentence_defnition(sent_vector,defnition_vectors):\n",
    "    \"\"\"\n",
    "    This method will find cosine similarity of sentence with\n",
    "    the possible definitions and return the one with highest similarity score\n",
    "    along with the similarity score.\n",
    "    \"\"\"\n",
    "\n",
    "    result_dict = {}\n",
    "    for defnition_id,def_vector in defnition_vectors.items():\n",
    "        sim = cosine_similarity(sent_vector,def_vector)\n",
    "        result_dict[defnition_id] = sim[0][0]\n",
    "    defnition  = sorted(result_dict.items(), key=lambda x: x[1], reverse=True)[0]\n",
    "    return defnition[0],defnition[1]"
   ]
  },
  {
   "cell_type": "code",
   "execution_count": null,
   "metadata": {},
   "outputs": [],
   "source": [
    "corpus = [\"On the banks of river Ganga, there lies the scent of spirituality\",\n",
    "          \"An institute where people can store extra cash or money.\",\n",
    "          \"The land alongside or sloping down to a river or lake\"\n",
    "           \"What you do defines you\",\n",
    "           \"Your deeds define you\",\n",
    "           \"Once upon a time there lived a king.\",\n",
    "           \"Who is your queen?\",\n",
    "            \"He is desperate\",\n",
    "           \"Is he not desperate?\"]"
   ]
  },
  {
   "cell_type": "code",
   "execution_count": null,
   "metadata": {},
   "outputs": [],
   "source": [
    "lower_case_corpus  = to_lower_case(corpus)\n",
    "corpus_tf_idf  = get_tf_idf_vectors(lower_case_corpus)\n",
    "sent_vector = corpus_tf_idf[0]\n",
    "defnition_vectors = {'def1':corpus_tf_idf[1],'def2':corpus_tf_idf[2]}\n",
    "defnition_id, score  = find_sentence_defnition(sent_vector,defnition_vectors)\n",
    "print(\"The defnition of word {} is {} with similarity of {}\".format('bank',defnition_id,score))"
   ]
  },
  {
   "cell_type": "code",
   "execution_count": null,
   "metadata": {},
   "outputs": [],
   "source": []
  }
 ],
 "metadata": {
  "kernelspec": {
   "display_name": "Python 3",
   "language": "python",
   "name": "python3"
  },
  "language_info": {
   "codemirror_mode": {
    "name": "ipython",
    "version": 3
   },
   "file_extension": ".py",
   "mimetype": "text/x-python",
   "name": "python",
   "nbconvert_exporter": "python",
   "pygments_lexer": "ipython3",
   "version": "3.7.3"
  }
 },
 "nbformat": 4,
 "nbformat_minor": 2
}

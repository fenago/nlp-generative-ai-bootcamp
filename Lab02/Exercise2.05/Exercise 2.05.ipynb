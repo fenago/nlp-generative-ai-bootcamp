{
 "cells": [
  {
   "cell_type": "code",
   "execution_count": null,
   "metadata": {},
   "outputs": [],
   "source": [
    "from nltk.stem import RegexpStemmer"
   ]
  },
  {
   "cell_type": "code",
   "execution_count": null,
   "metadata": {},
   "outputs": [],
   "source": [
    "def get_stems(text):\n",
    "    regex_stemmer = RegexpStemmer('ing$', min=4) # creating an object of RegexpStemmer, \n",
    "                                             # any string ending with the given\n",
    "                                             # regex ‘ing$’ will be removed.\n",
    "    # The below code line will convert every word into its stem using regex stemmer \n",
    "    # and then join them with space.\n",
    "    return ' '.join([regex_stemmer.stem(wd) for wd in text.split()])\n",
    "\n",
    " \n",
    "sentence = \"I love playing football\"\n",
    "get_stems(sentence)"
   ]
  }
 ],
 "metadata": {
  "kernelspec": {
   "display_name": "Python 3",
   "language": "python",
   "name": "python3"
  },
  "language_info": {
   "codemirror_mode": {
    "name": "ipython",
    "version": 3
   },
   "file_extension": ".py",
   "mimetype": "text/x-python",
   "name": "python",
   "nbconvert_exporter": "python",
   "pygments_lexer": "ipython3",
   "version": "3.7.3"
  }
 },
 "nbformat": 4,
 "nbformat_minor": 2
}

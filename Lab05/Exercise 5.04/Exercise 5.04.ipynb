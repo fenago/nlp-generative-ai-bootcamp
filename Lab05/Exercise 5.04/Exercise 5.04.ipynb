{
 "cells": [
  {
   "cell_type": "markdown",
   "metadata": {},
   "source": [
    "## Robinson Crusoe"
   ]
  },
  {
   "cell_type": "code",
   "execution_count": null,
   "metadata": {},
   "outputs": [],
   "source": [
    "import pandas as pd\n",
    "pd.set_option('display.max_colwidth', 800)\n",
    "import numpy as np\n",
    "import matplotlib.pyplot as plt\n",
    "%matplotlib inline"
   ]
  },
  {
   "cell_type": "code",
   "execution_count": null,
   "metadata": {},
   "outputs": [],
   "source": [
    "OPEN_DATA_URL = '../data/robinsoncrusoe/521-0.txt'\n",
    "f=open(OPEN_DATA_URL,'r',encoding='utf-8')\n",
    "text=f.read()\n",
    "f.close()\n",
    "\n",
    "import re\n",
    "\n",
    "HANDLE = '@\\w+'\n",
    "LINK = 'https?://t\\.co/\\w+'\n",
    "SPECIAL_CHARS = '&lt;|&lt;|&amp;|#'\n",
    "PARA='\\n+'\n",
    "def clean(text):\n",
    "    #text = re.sub(HANDLE, ' ', text)\n",
    "    text = re.sub(LINK, ' ', text)\n",
    "    text = re.sub(SPECIAL_CHARS, ' ', text)\n",
    "    text = re.sub(PARA, '\\n', text)\n",
    "    return text\n",
    "\n",
    "text = clean(text)\n",
    "text"
   ]
  },
  {
   "cell_type": "code",
   "execution_count": null,
   "metadata": {},
   "outputs": [],
   "source": [
    "import spacy\n",
    "nlp = spacy.load('en_core_web_sm')\n",
    "doc=nlp(text)\n",
    "pos_list=['NOUN'] #We can experiment with other or a combinations of parts of speech ['NOUN','ADJ','VERB','ADV'] #['NOUN','ADJ']\n",
    "\n",
    "preproc_text=[]\n",
    "preproc_sent=[]\n",
    "\n",
    "for token in doc:\n",
    "    if token.text!='\\n':\n",
    "        if not(token.is_stop) and not(token.is_punct) and token.pos_ in pos_list:\n",
    "            preproc_sent.append(token.lemma_)\n",
    "    else:\n",
    "        preproc_text.append(preproc_sent)\n",
    "        preproc_sent=[]\n",
    "\n",
    "preproc_text.append(preproc_sent) #last sentence\n",
    "\n",
    "print(preproc_text)"
   ]
  },
  {
   "cell_type": "code",
   "execution_count": null,
   "metadata": {},
   "outputs": [],
   "source": [
    "import tomotopy as tp\n",
    "mdl = tp.HDPModel(alpha=0.8,seed=0)\n",
    "\n",
    "for line in preproc_text:\n",
    "    mdl.add_doc(line)\n",
    "\n",
    "for i in range(0, 110, 10):\n",
    "    mdl.train(i)\n",
    "    print('Iteration: {}\\tLog-likelihood: {}'.format(i, mdl.ll_per_word))\n",
    "\n",
    "for k in range(mdl.k):\n",
    "    print('Top 10 words of topic #{}'.format(k))\n",
    "    print(mdl.get_topic_words(k, top_n=7))"
   ]
  },
  {
   "cell_type": "code",
   "execution_count": null,
   "metadata": {},
   "outputs": [],
   "source": [
    "mdl.save('../data/robinsoncrusoe/hdp_model.bin')"
   ]
  },
  {
   "cell_type": "code",
   "execution_count": null,
   "metadata": {},
   "outputs": [],
   "source": [
    "mdl = tp.HDPModel.load('../data/robinsoncrusoe/hdp_model.bin')"
   ]
  },
  {
   "cell_type": "code",
   "execution_count": null,
   "metadata": {},
   "outputs": [],
   "source": [
    "bag_of_words=[word for sent in preproc_text for word in sent]\n",
    "doc_inst = mdl.make_doc(bag_of_words)\n",
    "mdl.infer(doc_inst)[0]\n",
    "np.argsort(np.array(mdl.infer(doc_inst)[0]))[::-1]"
   ]
  },
  {
   "cell_type": "code",
   "execution_count": null,
   "metadata": {},
   "outputs": [],
   "source": [
    "print(mdl.get_topic_words(163, top_n=7))"
   ]
  },
  {
   "cell_type": "code",
   "execution_count": null,
   "metadata": {},
   "outputs": [],
   "source": [
    "print(mdl.get_topic_words(103, top_n=7))"
   ]
  },
  {
   "cell_type": "code",
   "execution_count": null,
   "metadata": {},
   "outputs": [],
   "source": [
    "print(mdl.get_topic_words(28, top_n=7))"
   ]
  }
 ],
 "metadata": {
  "kernelspec": {
   "display_name": "Python 3",
   "language": "python",
   "name": "python3"
  },
  "language_info": {
   "codemirror_mode": {
    "name": "ipython",
    "version": 3
   },
   "file_extension": ".py",
   "mimetype": "text/x-python",
   "name": "python",
   "nbconvert_exporter": "python",
   "pygments_lexer": "ipython3",
   "version": "3.7.3"
  }
 },
 "nbformat": 4,
 "nbformat_minor": 2
}

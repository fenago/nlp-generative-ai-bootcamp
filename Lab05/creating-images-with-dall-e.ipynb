{
 "cells": [
  {
   "cell_type": "code",
   "execution_count": null,
   "metadata": {},
   "outputs": [],
   "source": [
    "import os\n",
    "\n",
    "# Prompt for the API key\n",
    "api_key = input(\"Enter your OpenAI API key: \")\n",
    "\n",
    "# Set the environment variable\n",
    "os.environ[\"OPENAI_API_KEY\"] = api_key"
   ]
  },
  {
   "cell_type": "code",
   "execution_count": null,
   "metadata": {},
   "outputs": [],
   "source": [
    "from openai import OpenAI\n",
    "client = OpenAI()\n",
    "\n",
    "response = client.images.generate(\n",
    "  model=\"dall-e-3\",\n",
    "  prompt=\"a Belgian Malinois named Daisy sitting on the grass\",\n",
    "  size=\"1024x1024\",\n",
    "  quality=\"standard\",\n",
    "  n=1,\n",
    ")\n",
    "\n",
    "# To display the image in Google Colab, we'll use the following:\n",
    "from IPython.display import Image\n",
    "import requests\n",
    "\n",
    "# Fetch the image from the URL\n",
    "image_data = requests.get(response.data[0].url).content\n",
    "display(Image(image_data))"
   ]
  },
  {
   "cell_type": "code",
   "execution_count": null,
   "metadata": {},
   "outputs": [],
   "source": []
  },
  {
   "cell_type": "code",
   "execution_count": null,
   "metadata": {},
   "outputs": [],
   "source": [
    "from PIL import Image as PILImage\n",
    "import io\n",
    "import requests\n",
    "from IPython.display import Image as IPyImage, display\n",
    "\n",
    "# Load the JPEG image and ensure it's less than 4 MB as a PNG\n",
    "with PILImage.open(\"./Sunflower_sky_backdrop.jpg\") as img:\n",
    "    img = img.convert(\"RGBA\")\n",
    "    img_byte_arr = io.BytesIO()\n",
    "    img.save(img_byte_arr, format='PNG')\n",
    "\n",
    "    # If the image is too large, reduce its size\n",
    "    while len(img_byte_arr.getvalue()) > 4 * 1024 * 1024:\n",
    "        img = img.resize((int(img.width * 0.75), int(img.height * 0.75)))\n",
    "        img_byte_arr = io.BytesIO()\n",
    "        img.save(img_byte_arr, format='PNG')\n",
    "        if img.width < 200 or img.height < 200:  # Avoid making the image too small\n",
    "            break\n",
    "\n",
    "# Call the API to create image variations\n",
    "response = client.images.create_variation(\n",
    "  image=img_byte_arr.getvalue(),\n",
    "  n=2,\n",
    "  size=\"1024x1024\"\n",
    ")\n",
    "\n",
    "# Displaying variations in Google Colab\n",
    "for data in response.data:\n",
    "    variation_image_data = requests.get(data.url).content\n",
    "    display(IPyImage(variation_image_data))"
   ]
  },
  {
   "cell_type": "code",
   "execution_count": null,
   "metadata": {},
   "outputs": [],
   "source": []
  },
  {
   "cell_type": "code",
   "execution_count": null,
   "metadata": {},
   "outputs": [],
   "source": [
    "from PIL import Image as PILImage\n",
    "from IPython.display import Image as IPyImage, display\n",
    "import requests\n",
    "from io import BytesIO\n",
    "\n",
    "# Let's resize an image of Daisy\n",
    "original_image = PILImage.open(\"./Sunflower_sky_backdrop.jpg\")\n",
    "new_size = (256, 256)\n",
    "resized_image = original_image.resize(new_size)\n",
    "\n",
    "resized_image_stream = BytesIO()\n",
    "resized_image.save(resized_image_stream, format='PNG')\n",
    "\n",
    "# Convert the BytesIO stream to bytes for the API call\n",
    "resized_image_bytes = resized_image_stream.getvalue()\n",
    "\n",
    "# Now, let's send this resized image to DALL·E\n",
    "response = client.images.create_variation(\n",
    "  image=resized_image_bytes,\n",
    "  n=1,\n",
    "  size=\"1024x1024\"\n",
    ")\n",
    "\n",
    "# Displaying resized image in Google Colab\n",
    "resized_image_data = requests.get(response.data[0].url).content\n",
    "display(IPyImage(data=resized_image_data))"
   ]
  },
  {
   "cell_type": "code",
   "execution_count": null,
   "metadata": {},
   "outputs": [],
   "source": []
  },
  {
   "cell_type": "code",
   "execution_count": null,
   "metadata": {},
   "outputs": [],
   "source": [
    "from openai import OpenAIError\n",
    "from PIL import Image\n",
    "import io\n",
    "\n",
    "# Convert the image to PNG and ensure it's less than 4 MB\n",
    "with Image.open(\"./Sunflower_sky_backdrop.jpg\") as img:\n",
    "    img = img.convert(\"RGBA\")  # Convert to RGBA to support transparency in PNG\n",
    "    img_byte_arr = io.BytesIO()\n",
    "    img.save(img_byte_arr, format='PNG', optimize=True)  # PNG format and optimization\n",
    "    img_byte_arr.seek(0)  # Reset the stream position to the beginning\n",
    "\n",
    "# Now attempt to create a variation with the converted image\n",
    "try:\n",
    "    response = client.images.create_variation(\n",
    "      image=img_byte_arr,\n",
    "      n=1,\n",
    "      size=\"1024x1024\"\n",
    "    )\n",
    "except OpenAIError as e:  # Corrected to catch OpenAIError directly\n",
    "    print(\"An error occurred:\", e.http_status)\n",
    "    print(\"Details:\", e.error)"
   ]
  },
  {
   "cell_type": "code",
   "execution_count": null,
   "metadata": {},
   "outputs": [],
   "source": []
  }
 ],
 "metadata": {
  "kernelspec": {
   "display_name": "Python 3",
   "language": "python",
   "name": "python3"
  },
  "language_info": {
   "codemirror_mode": {
    "name": "ipython",
    "version": 3
   },
   "file_extension": ".py",
   "mimetype": "text/x-python",
   "name": "python",
   "nbconvert_exporter": "python",
   "pygments_lexer": "ipython3",
   "version": "3.7.3"
  }
 },
 "nbformat": 4,
 "nbformat_minor": 4
}

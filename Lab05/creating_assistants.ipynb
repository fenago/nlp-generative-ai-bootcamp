{
 "cells": [
  {
   "cell_type": "code",
   "execution_count": null,
   "metadata": {},
   "outputs": [],
   "source": [
    "import os\n",
    "\n",
    "# Prompt for the API key\n",
    "api_key = input(\"Enter your OpenAI API key: \")\n",
    "\n",
    "# Set the environment variable\n",
    "os.environ[\"OPENAI_API_KEY\"] = api_key\n",
    "from openai import OpenAI\n",
    "\n",
    "client = OpenAI()"
   ]
  },
  {
   "cell_type": "code",
   "execution_count": null,
   "metadata": {},
   "outputs": [],
   "source": [
    "import os\n",
    "import openai\n",
    "\n",
    "# Directory containing the files\n",
    "directory_path = './content/drlee'\n",
    "\n",
    "# List all files in the directory\n",
    "all_file_names = [os.path.join(directory_path, f) for f in os.listdir(directory_path) if os.path.isfile(os.path.join(directory_path, f))]\n",
    "\n",
    "# Initialize OpenAI client (ensure you have set your API key)\n",
    "client = openai.OpenAI()\n",
    "\n",
    "# Upload files and collect file IDs\n",
    "file_ids = []\n",
    "for file_name in all_file_names:\n",
    "    with open(file_name, 'rb') as file:\n",
    "        response = client.files.create(file=file, purpose='assistants')\n",
    "        file_ids.append(response.id)  # Access the id attribute\n",
    "\n",
    "# Now file_ids contains the IDs of all uploaded files"
   ]
  },
  {
   "cell_type": "code",
   "execution_count": null,
   "metadata": {},
   "outputs": [],
   "source": [
    "# Create the Assistant with both Retrieval and Code Interpreter tools\n",
    "assistant = client.beta.assistants.create(\n",
    "    name=\"Academic Co-Pilot\",\n",
    "    instructions=\"You are an AI assistant tailored to a Professor's expertise in [Subject Area]: AI and Data Analytics. Provide detailed and accurate information based on the provided resources ONLY.  If there is no context in the resources then provide a blank response.  Please provide citations for the documents and page numbers\",\n",
    "    tools=[\n",
    "        {\"type\": \"retrieval\"},\n",
    "        {\"type\": \"code_interpreter\"}\n",
    "    ],\n",
    "    model=\"gpt-4-1106-preview\",\n",
    "    file_ids=file_ids  # Assuming 'file_ids' is a list of IDs from previously uploaded files\n",
    ")"
   ]
  },
  {
   "cell_type": "code",
   "execution_count": null,
   "metadata": {},
   "outputs": [],
   "source": [
    "thread = client.beta.threads.create()"
   ]
  },
  {
   "cell_type": "code",
   "execution_count": null,
   "metadata": {},
   "outputs": [],
   "source": [
    "user_query = \"What are stop words?\"\n",
    "message = client.beta.threads.messages.create(\n",
    "    thread_id=thread.id,\n",
    "    role=\"user\",\n",
    "    content=user_query\n",
    ")\n",
    "print(message)"
   ]
  },
  {
   "cell_type": "code",
   "execution_count": null,
   "metadata": {},
   "outputs": [],
   "source": [
    "run = client.beta.threads.runs.create(\n",
    "  thread_id=thread.id,\n",
    "  assistant_id=assistant.id,\n",
    "  instructions='''Please address the user as MDC Student X. If there is no context for the answer in the documents then don't return anything'''\n",
    ")"
   ]
  },
  {
   "cell_type": "code",
   "execution_count": null,
   "metadata": {},
   "outputs": [],
   "source": [
    "import time\n",
    "\n",
    "while True:\n",
    "    # Retrieve the run's current status\n",
    "    run = client.beta.threads.runs.retrieve(\n",
    "        thread_id=thread.id,\n",
    "        run_id=run.id\n",
    "    )\n",
    "    print(run)\n",
    "\n",
    "    # Check if the run has a 'completed_at' value\n",
    "    if run.completed_at is not None:\n",
    "        break\n",
    "\n",
    "    # Wait for 7 seconds before checking again\n",
    "    time.sleep(7)\n",
    "\n",
    "# Continue with the next steps after the loop exits"
   ]
  },
  {
   "cell_type": "code",
   "execution_count": null,
   "metadata": {},
   "outputs": [],
   "source": [
    "messages = client.beta.threads.messages.list(\n",
    "  thread_id=thread.id\n",
    ")\n",
    "print(messages)"
   ]
  },
  {
   "cell_type": "code",
   "execution_count": null,
   "metadata": {},
   "outputs": [],
   "source": []
  },
  {
   "cell_type": "code",
   "execution_count": null,
   "metadata": {},
   "outputs": [],
   "source": [
    "import textwrap\n",
    "\n",
    "# Formatting and displaying the results\n",
    "for message in messages.data:\n",
    "    # Extracting the message content\n",
    "    if message.content and message.content[0].text.value.strip():\n",
    "        content = message.content[0].text.value\n",
    "    else:\n",
    "        content = \"There is no context for this question.\"\n",
    "\n",
    "    # Wrap text to the width of the colab cell\n",
    "    wrapped_content = textwrap.fill(content, width=80)\n",
    "    \n",
    "    # Printing the role and content in a readable format\n",
    "    print(f\"Role: {message.role}\")\n",
    "    print(\"Content:\")\n",
    "    print(wrapped_content)\n",
    "    print(\"-\" * 80)  # Separator for readability"
   ]
  },
  {
   "cell_type": "code",
   "execution_count": null,
   "metadata": {},
   "outputs": [],
   "source": []
  }
 ],
 "metadata": {
  "kernelspec": {
   "display_name": "Python 3",
   "language": "python",
   "name": "python3"
  },
  "language_info": {
   "codemirror_mode": {
    "name": "ipython",
    "version": 3
   },
   "file_extension": ".py",
   "mimetype": "text/x-python",
   "name": "python",
   "nbconvert_exporter": "python",
   "pygments_lexer": "ipython3",
   "version": "3.7.3"
  }
 },
 "nbformat": 4,
 "nbformat_minor": 4
}

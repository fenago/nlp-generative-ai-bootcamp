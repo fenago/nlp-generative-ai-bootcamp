{
 "cells": [
  {
   "cell_type": "markdown",
   "metadata": {},
   "source": [
    "## Canada Open Data Inventory using LDA"
   ]
  },
  {
   "cell_type": "code",
   "execution_count": null,
   "metadata": {},
   "outputs": [],
   "source": [
    "import pandas as pd\n",
    "pd.set_option('display.max_colwidth', 800)\n",
    "import numpy as np\n",
    "import matplotlib.pyplot as plt\n",
    "%matplotlib inline"
   ]
  },
  {
   "cell_type": "code",
   "execution_count": null,
   "metadata": {},
   "outputs": [],
   "source": [
    "OPEN_DATA_URL = '../data/canada-open-data/inventory.csv'\n",
    "\n",
    "import re\n",
    "\n",
    "HANDLE = '@\\w+'\n",
    "LINK = 'https?://t\\.co/\\w+'\n",
    "SPECIAL_CHARS = '&lt;|&lt;|&amp;|#'\n",
    "PARA='\\n+'\n",
    "def clean(text):\n",
    "    text = re.sub(LINK, ' ', text)\n",
    "    text = re.sub(SPECIAL_CHARS, ' ', text)\n",
    "    text = re.sub(PARA, '\\n', text)\n",
    "    return text\n",
    "\n",
    "catalog=pd.read_csv(OPEN_DATA_URL)\n",
    "catalog = catalog.dropna(subset=['description_en'])\n",
    "file='../data/canada-open-data/catalog.txt'\n",
    "catalog['description_en'].sample(frac=0.25,replace=False,random_state=0).to_csv(file,encoding='utf-8')\n",
    "f=open(file,'r',encoding='utf-8')\n",
    "text=f.read()\n",
    "f.close()\n",
    "text = clean(text)"
   ]
  },
  {
   "cell_type": "code",
   "execution_count": null,
   "metadata": {},
   "outputs": [],
   "source": [
    "import spacy\n",
    "nlp = spacy.load('en_core_web_sm')\n",
    "doc=nlp(text)\n",
    "pos_list=['NOUN']\n",
    "preproc_text=[]\n",
    "preproc_sent=[]\n",
    "\n",
    "for token in doc:\n",
    "    if token.text!='\\n':\n",
    "        if not(token.is_stop) and not(token.is_punct) and token.pos_ in pos_list:\n",
    "            preproc_sent.append(token.lemma_)\n",
    "    else:\n",
    "        preproc_text.append(preproc_sent)\n",
    "        preproc_sent=[]\n",
    "\n",
    "preproc_text.append(preproc_sent) #last sentence\n",
    "\n",
    "print(preproc_text)"
   ]
  },
  {
   "cell_type": "code",
   "execution_count": null,
   "metadata": {},
   "outputs": [],
   "source": [
    "import tomotopy as tp\n",
    "NUM_TOPICS=20\n",
    "mdl = tp.LDAModel(k=NUM_TOPICS,seed=1234)\n",
    "\n",
    "for line in preproc_text:\n",
    "    mdl.add_doc(line)\n",
    "\n",
    "for i in range(0, 110, 10):\n",
    "    mdl.train(i)\n",
    "    print('Iteration: {}\\tLog-likelihood: {}'.format(i, mdl.ll_per_word))"
   ]
  },
  {
   "cell_type": "code",
   "execution_count": null,
   "metadata": {},
   "outputs": [],
   "source": [
    "mdl.train(10)\n",
    "for k in range(mdl.k):\n",
    "    print('Top 10 words of topic #{}'.format(k))\n",
    "    print(mdl.get_topic_words(k, top_n=7))"
   ]
  },
  {
   "cell_type": "code",
   "execution_count": null,
   "metadata": {},
   "outputs": [],
   "source": [
    "bag_of_words=[word for sent in preproc_text for word in sent]\n",
    "doc_inst = mdl.make_doc(bag_of_words)\n",
    "mdl.infer(doc_inst)[0]\n",
    "np.argsort(np.array(mdl.infer(doc_inst)[0]))[::-1]"
   ]
  },
  {
   "cell_type": "code",
   "execution_count": null,
   "metadata": {},
   "outputs": [],
   "source": [
    "print(mdl.get_topic_words(11, top_n=7))"
   ]
  },
  {
   "cell_type": "code",
   "execution_count": null,
   "metadata": {},
   "outputs": [],
   "source": [
    "print(mdl.get_topic_words(17, top_n=7))"
   ]
  },
  {
   "cell_type": "code",
   "execution_count": null,
   "metadata": {},
   "outputs": [],
   "source": [
    "print(mdl.get_topic_words(5, top_n=7))"
   ]
  }
 ],
 "metadata": {
  "kernelspec": {
   "display_name": "Python 3",
   "language": "python",
   "name": "python3"
  },
  "language_info": {
   "codemirror_mode": {
    "name": "ipython",
    "version": 3
   },
   "file_extension": ".py",
   "mimetype": "text/x-python",
   "name": "python",
   "nbconvert_exporter": "python",
   "pygments_lexer": "ipython3",
   "version": "3.7.3"
  }
 },
 "nbformat": 4,
 "nbformat_minor": 2
}

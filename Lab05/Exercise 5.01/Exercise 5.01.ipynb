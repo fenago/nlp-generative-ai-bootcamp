{
 "cells": [
  {
   "cell_type": "markdown",
   "metadata": {},
   "source": [
    "# Latent Semantic Analysis Wikipedia World Cup dataset"
   ]
  },
  {
   "cell_type": "code",
   "execution_count": null,
   "metadata": {},
   "outputs": [],
   "source": [
    "import numpy as np\n",
    "import matplotlib.pyplot as plt\n",
    "%matplotlib inline\n",
    "from gensim import corpora\n",
    "from gensim.models import LsiModel\n",
    "from gensim.parsing.preprocessing import preprocess_string"
   ]
  },
  {
   "cell_type": "code",
   "execution_count": null,
   "metadata": {},
   "outputs": [],
   "source": [
    "import re\n",
    "\n",
    "HANDLE = '@\\w+'\n",
    "LINK = 'https?://t\\.co/\\w+'\n",
    "SPECIAL_CHARS = '&lt;|&lt;|&amp;|#'\n",
    "PARA='\\n+'\n",
    "def clean(text):\n",
    "    text = re.sub(LINK, ' ', text)\n",
    "    text = re.sub(SPECIAL_CHARS, ' ', text)\n",
    "    text = re.sub(PARA, '\\n', text)\n",
    "    return text    "
   ]
  },
  {
   "cell_type": "code",
   "execution_count": null,
   "metadata": {},
   "outputs": [],
   "source": [
    "import wikipedia\n",
    "wikipedia.search('Cricket World Cup'),wikipedia.search('FIFA World Cup')"
   ]
  },
  {
   "cell_type": "code",
   "execution_count": null,
   "metadata": {},
   "outputs": [],
   "source": [
    "latest_soccer_cricket=['2018 FIFA World Cup','2019 Cricket World Cup']\n",
    "corpus=''\n",
    "for cup in latest_soccer_cricket:\n",
    "    corpus=corpus+wikipedia.page(cup).content\n",
    "corpus "
   ]
  },
  {
   "cell_type": "code",
   "execution_count": null,
   "metadata": {},
   "outputs": [],
   "source": [
    "text=clean(corpus)\n",
    "import spacy\n",
    "nlp = spacy.load('en_core_web_sm')\n",
    "doc=nlp(text) \n",
    "pos_list=['NOUN']\n",
    "preproc_text=[]\n",
    "preproc_sent=[]\n",
    "\n",
    "for token in doc:\n",
    "    if token.text!='\\n':\n",
    "        if not(token.is_stop) and not(token.is_punct) and token.pos_ in pos_list:\n",
    "            preproc_sent.append(token.lemma_)\n",
    "    else:\n",
    "        preproc_text.append(preproc_sent)\n",
    "        preproc_sent=[]\n",
    "\n",
    "preproc_text.append(preproc_sent) #last sentence\n",
    "\n",
    "print(preproc_text)"
   ]
  },
  {
   "cell_type": "code",
   "execution_count": null,
   "metadata": {},
   "outputs": [],
   "source": [
    "dictionary = corpora.Dictionary(preproc_text)\n",
    "corpus = [dictionary.doc2bow(text) for text in preproc_text]\n",
    "NUM_TOPICS=3\n",
    "lsamodel=LsiModel(corpus, num_topics=NUM_TOPICS, id2word = dictionary)\n",
    "lsamodel.print_topics()"
   ]
  },
  {
   "cell_type": "code",
   "execution_count": null,
   "metadata": {},
   "outputs": [],
   "source": [
    "model_arr = np.argmax(lsamodel.get_topics(),axis=0)\n",
    "y, x = np.histogram(model_arr, bins=np.arange(NUM_TOPICS+1))\n",
    "fig, ax = plt.subplots()\n",
    "plt.xticks(ticks=np.arange(NUM_TOPICS),labels=np.arange(NUM_TOPICS+1))\n",
    "ax.plot(x[:-1], y)\n",
    "fig.show()"
   ]
  },
  {
   "cell_type": "code",
   "execution_count": null,
   "metadata": {},
   "outputs": [],
   "source": []
  }
 ],
 "metadata": {
  "kernelspec": {
   "display_name": "Python 3",
   "language": "python",
   "name": "python3"
  },
  "language_info": {
   "codemirror_mode": {
    "name": "ipython",
    "version": 3
   },
   "file_extension": ".py",
   "mimetype": "text/x-python",
   "name": "python",
   "nbconvert_exporter": "python",
   "pygments_lexer": "ipython3",
   "version": "3.7.3"
  }
 },
 "nbformat": 4,
 "nbformat_minor": 2
}

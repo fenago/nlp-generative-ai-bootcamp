{
 "cells": [
  {
   "cell_type": "markdown",
   "metadata": {},
   "source": [
    "# CFPB Student Loans complaints HDP"
   ]
  },
  {
   "cell_type": "markdown",
   "metadata": {},
   "source": [
    "https://www.consumerfinance.gov/data-research/consumer-complaints/#download-the-data"
   ]
  },
  {
   "cell_type": "code",
   "execution_count": null,
   "metadata": {},
   "outputs": [],
   "source": [
    "import numpy as np\n",
    "import spacy\n",
    "nlp = spacy.load('en_core_web_sm')\n",
    "file_student='../data/consumercomplaints/student_comp_narrative.txt'\n",
    "f=open(file_student,'r',encoding='utf-8')\n",
    "student_text=f.read()\n",
    "f.close()"
   ]
  },
  {
   "cell_type": "code",
   "execution_count": null,
   "metadata": {},
   "outputs": [],
   "source": [
    "doc_student=nlp(student_text)\n",
    "student_pos_list=['NOUN']\n",
    "student_preproc_text=[]\n",
    "student_preproc_sent=[]\n",
    "\n",
    "for token in doc_student:\n",
    "    if token.text!='\\n':\n",
    "        if not(token.is_stop) and not(token.is_punct) and token.pos_ in student_pos_list:\n",
    "            student_preproc_sent.append(token.lemma_)\n",
    "    else:\n",
    "        student_preproc_text.append(student_preproc_sent)\n",
    "        student_preproc_sent=[]\n",
    "\n",
    "student_preproc_text.append(student_preproc_sent) #last sentence\n",
    "\n",
    "print(student_preproc_text)"
   ]
  },
  {
   "cell_type": "code",
   "execution_count": null,
   "metadata": {},
   "outputs": [],
   "source": [
    "import tomotopy as tp\n",
    "mdl = tp.HDPModel(alpha=0.1,seed=0)\n",
    "\n",
    "for line in student_preproc_text:\n",
    "    mdl.add_doc(line)\n",
    "\n",
    "mdl.train(50)\n",
    "print('Log Perplexity=', mdl.ll_per_word)\n",
    "\n",
    "for k in range(mdl.k):\n",
    "    print('Top 10 words of topic #{}'.format(k))\n",
    "    print(mdl.get_topic_words(k, top_n=10))\n"
   ]
  },
  {
   "cell_type": "code",
   "execution_count": null,
   "metadata": {},
   "outputs": [],
   "source": [
    "mdl.save('../data/consumercomplaints/hdp_model.bin')"
   ]
  },
  {
   "cell_type": "code",
   "execution_count": null,
   "metadata": {},
   "outputs": [],
   "source": [
    "mdl = tp.HDPModel.load('../data/consumercomplaints/hdp_model.bin')"
   ]
  },
  {
   "cell_type": "code",
   "execution_count": null,
   "metadata": {},
   "outputs": [],
   "source": [
    "bag_of_words=[word for sent in student_preproc_text for word in sent]\n",
    "doc_inst = mdl.make_doc(bag_of_words)\n",
    "np.argsort(np.array(mdl.infer(doc_inst)[0]))[::-1]"
   ]
  },
  {
   "cell_type": "code",
   "execution_count": null,
   "metadata": {},
   "outputs": [],
   "source": [
    "print(mdl.get_topic_words(5, top_n=7))"
   ]
  },
  {
   "cell_type": "code",
   "execution_count": null,
   "metadata": {},
   "outputs": [],
   "source": [
    "print(mdl.get_topic_words(7, top_n=7))"
   ]
  },
  {
   "cell_type": "code",
   "execution_count": null,
   "metadata": {},
   "outputs": [],
   "source": [
    "print(mdl.get_topic_words(4, top_n=7))"
   ]
  },
  {
   "cell_type": "markdown",
   "metadata": {},
   "source": [
    "# CFPB Student Loans complaints LDA"
   ]
  },
  {
   "cell_type": "code",
   "execution_count": null,
   "metadata": {},
   "outputs": [],
   "source": [
    "NUM_TOPICS=20\n",
    "\n",
    "mdl = tp.LDAModel(k=NUM_TOPICS,alpha=0.1,seed=0)\n",
    "\n",
    "for line in student_preproc_text:\n",
    "    mdl.add_doc(line)\n",
    "\n",
    "mdl.train(50)\n",
    "print('Log Perplexity=', mdl.ll_per_word)\n",
    "\n",
    "for k in range(mdl.k):\n",
    "    print('Top 10 words of topic #{}'.format(k))\n",
    "    print(mdl.get_topic_words(k, top_n=10))\n"
   ]
  },
  {
   "cell_type": "code",
   "execution_count": null,
   "metadata": {},
   "outputs": [],
   "source": [
    "mdl.save('../data/consumercomplaints/lda_model.bin')"
   ]
  },
  {
   "cell_type": "code",
   "execution_count": null,
   "metadata": {},
   "outputs": [],
   "source": [
    "mdl = tp.LDAModel.load('../data/consumercomplaints/lda_model.bin')"
   ]
  },
  {
   "cell_type": "code",
   "execution_count": null,
   "metadata": {},
   "outputs": [],
   "source": [
    "bag_of_words=[word for sent in student_preproc_text for word in sent]\n",
    "doc_inst = mdl.make_doc(bag_of_words)\n",
    "np.argsort(np.array(mdl.infer(doc_inst)[0]))[::-1]"
   ]
  },
  {
   "cell_type": "code",
   "execution_count": null,
   "metadata": {},
   "outputs": [],
   "source": [
    "print(mdl.get_topic_words(17, top_n=7))"
   ]
  },
  {
   "cell_type": "code",
   "execution_count": null,
   "metadata": {},
   "outputs": [],
   "source": [
    "print(mdl.get_topic_words(7, top_n=7))"
   ]
  },
  {
   "cell_type": "code",
   "execution_count": null,
   "metadata": {},
   "outputs": [],
   "source": [
    "print(mdl.get_topic_words(6, top_n=7))"
   ]
  }
 ],
 "metadata": {
  "kernelspec": {
   "display_name": "Python 3",
   "language": "python",
   "name": "python3"
  },
  "language_info": {
   "codemirror_mode": {
    "name": "ipython",
    "version": 3
   },
   "file_extension": ".py",
   "mimetype": "text/x-python",
   "name": "python",
   "nbconvert_exporter": "python",
   "pygments_lexer": "ipython3",
   "version": "3.7.3"
  }
 },
 "nbformat": 4,
 "nbformat_minor": 4
}
